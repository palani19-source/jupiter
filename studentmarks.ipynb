{
 "cells": [
  {
   "cell_type": "code",
   "execution_count": null,
   "id": "9931572c-efe6-4320-be8c-474919e238c8",
   "metadata": {},
   "outputs": [],
   "source": [
    "#how to use \n",
    "#    first change file path\n",
    "#    addstudent() functions adds student details in file\n",
    "#    deletestudent(rollno) removes particular student in file\n",
    "#    printstudent( rollno) gives student details\n",
    "#    isrolunique(rollno): if exists returns false else true\n"
   ]
  },
  {
   "cell_type": "code",
   "execution_count": 66,
   "id": "7a37e897-4ad8-4a13-a7f0-42b39b797396",
   "metadata": {},
   "outputs": [
    {
     "name": "stdin",
     "output_type": "stream",
     "text": [
      "Enter 6 subject marks separated by spaces:  90 98 87 96 95 91\n"
     ]
    },
    {
     "name": "stdout",
     "output_type": "stream",
     "text": [
      "Added student: 23F61A0988 with marks ['sub1-90', 'sub2-98', 'sub3-87', 'sub4-96', 'sub5-95', 'sub6-91']\n"
     ]
    }
   ],
   "source": [
    "filepath = \"studentmark2.txt\"\n",
    "\n",
    "def addstudent(rollnumber):\n",
    "    with open(filepath, 'a') as f:\n",
    "        sub = input(\"Enter 6 subject marks separated by spaces: \").split()\n",
    "        \n",
    "        if len(sub) != 6:\n",
    "            print(\"Please enter exactly 6 marks.\")\n",
    "            return\n",
    "        \n",
    "        marklist = []\n",
    "        for i in range(6):\n",
    "            add = f\"sub{i + 1}-{sub[i]}\"\n",
    "            marklist.append(add)\n",
    "        \n",
    "        # Write the roll number and marks to the file\n",
    "        f.write(f\"{rollnumber}, {' '.join(marklist)}\\n\")\n",
    "        print(f\"Added student: {rollnumber} with marks {marklist}\")\n",
    "addstudent(\"23F61A0988\")"
   ]
  },
  {
   "cell_type": "code",
   "execution_count": 82,
   "id": "ce34fb97-4986-4dfe-98cc-8b1069f782e7",
   "metadata": {},
   "outputs": [],
   "source": [
    "#function that checks unique rollnumber\n",
    "def deletestudent(rollno):\n",
    "    with open(filepath,'r') as fr:\n",
    "        lines=fr.readlines() #lines in file is stored as list elements\n",
    "        for eachline in lines:\n",
    "            if eachline.find(rollno)!=-1: #find function returns line if found else it returns -1\n",
    "                lines.remove(eachline)\n",
    "    #rewrite the file after removing element\n",
    "    with open(filepath,'w') as re:\n",
    "        for presentlines in lines:\n",
    "            re.write(presentlines)\n",
    "deletestudent(\"23F61A0988\")"
   ]
  },
  {
   "cell_type": "code",
   "execution_count": 46,
   "id": "be2ffdea-0cd8-473f-8981-12da0243dd99",
   "metadata": {},
   "outputs": [
    {
     "name": "stdout",
     "output_type": "stream",
     "text": [
      "23F61A968, sub1-45 sub2-67 sub3-98 sub4-87 sub5-67 sub6-90\n",
      "\n"
     ]
    }
   ],
   "source": [
    "#function to print student details via his rollnumber\n",
    "def printstudent(rollno):\n",
    "    with open(filepath,'r') as f:\n",
    "        lines=f.readlines()\n",
    "        for eachline in lines:\n",
    "            if eachline.find(rollno) !=-1:\n",
    "                print(eachline)\n",
    "printstudent(\"23F61A968\")"
   ]
  },
  {
   "cell_type": "code",
   "execution_count": 52,
   "id": "7f6aec6b-8d34-4f91-9497-0931e752b558",
   "metadata": {},
   "outputs": [
    {
     "data": {
      "text/plain": [
       "False"
      ]
     },
     "execution_count": 52,
     "metadata": {},
     "output_type": "execute_result"
    }
   ],
   "source": [
    "#function to check rollnumber is unique\n",
    "def isrolunique(rollno):\n",
    "    with open(filepath,'r') as f:\n",
    "        lines=f.readlines()\n",
    "        for eachline in lines:\n",
    "            if eachline.find(rollno) !=-1:\n",
    "                return False #if exists \n",
    "    return True #if doesn't exists\n",
    "isrolunique(\"23F61A968\")"
   ]
  },
  {
   "cell_type": "code",
   "execution_count": 94,
   "id": "8bc20142-2b16-4111-b9e2-57a7b73ecc00",
   "metadata": {},
   "outputs": [
    {
     "name": "stdin",
     "output_type": "stream",
     "text": [
      "enter no. student details to store 1\n",
      "enter student roll number 23F61A0988\n",
      "Enter 6 subject marks separated by spaces:  90 98 97 96 95 94\n"
     ]
    },
    {
     "name": "stdout",
     "output_type": "stream",
     "text": [
      "Added student: 23F61A0988 with marks ['sub1-90', 'sub2-98', 'sub3-97', 'sub4-96', 'sub5-95', 'sub6-94']\n"
     ]
    },
    {
     "name": "stdin",
     "output_type": "stream",
     "text": [
      "enter roll number to delete 23F61A0988\n"
     ]
    }
   ],
   "source": [
    "N=int(input(\"enter no. student details to store\"))\n",
    "for i in range(N):\n",
    "               rollnumber=input(\"enter student roll number\")\n",
    "               if isrolunique(rollnumber):\n",
    "                   addstudent(rollnumber)\n",
    "               else:\n",
    "                   print(rollnumber,\"already exist\")\n",
    "\n",
    "#to deletestudent he should be in file\n",
    "de=input(\"enter roll number to delete\")\n",
    "if isrolunique(de)==False:\n",
    "    deletestudent(de)\n",
    "    print(de,\"deleted succesfully\")\n",
    "else:\n",
    "    print(\"invalid roll number\")\n",
    "\n"
   ]
  },
  {
   "cell_type": "code",
   "execution_count": null,
   "id": "600ddc19-4b10-48d5-b850-bd7624b13b76",
   "metadata": {},
   "outputs": [],
   "source": []
  }
 ],
 "metadata": {
  "kernelspec": {
   "display_name": "Python 3 (ipykernel)",
   "language": "python",
   "name": "python3"
  },
  "language_info": {
   "codemirror_mode": {
    "name": "ipython",
    "version": 3
   },
   "file_extension": ".py",
   "mimetype": "text/x-python",
   "name": "python",
   "nbconvert_exporter": "python",
   "pygments_lexer": "ipython3",
   "version": "3.12.4"
  }
 },
 "nbformat": 4,
 "nbformat_minor": 5
}
